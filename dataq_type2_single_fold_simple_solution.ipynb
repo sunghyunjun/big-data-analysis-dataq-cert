{
  "nbformat": 4,
  "nbformat_minor": 0,
  "metadata": {
    "colab": {
      "name": "dataq_type2_single_fold_simple_solution.ipynb",
      "provenance": [],
      "collapsed_sections": [],
      "authorship_tag": "ABX9TyMV82CyDL3BTLDRPpZKhDg6",
      "include_colab_link": true
    },
    "kernelspec": {
      "name": "python3",
      "display_name": "Python 3"
    },
    "language_info": {
      "name": "python"
    }
  },
  "cells": [
    {
      "cell_type": "markdown",
      "metadata": {
        "id": "view-in-github",
        "colab_type": "text"
      },
      "source": [
        "<a href=\"https://colab.research.google.com/github/sunghyunjun/big-data-analysis-dataq-cert/blob/main/dataq_type2_single_fold_simple_solution.ipynb\" target=\"_parent\"><img src=\"https://colab.research.google.com/assets/colab-badge.svg\" alt=\"Open In Colab\"/></a>"
      ]
    },
    {
      "cell_type": "code",
      "metadata": {
        "id": "725Fe9lFbQSF"
      },
      "source": [
        "import numpy as np\n",
        "import pandas as pd\n",
        "\n",
        "from sklearn.preprocessing import MinMaxScaler, StandardScaler\n",
        "from sklearn.linear_model import LogisticRegression\n",
        "from sklearn.ensemble import RandomForestClassifier\n",
        "from sklearn.model_selection import train_test_split\n",
        "from sklearn.metrics import roc_auc_score\n",
        "from xgboost import XGBClassifier"
      ],
      "execution_count": null,
      "outputs": []
    },
    {
      "cell_type": "code",
      "source": [
        ""
      ],
      "metadata": {
        "id": "_QybKD-Eg5W2"
      },
      "execution_count": null,
      "outputs": []
    },
    {
      "cell_type": "code",
      "metadata": {
        "id": "WURyyHfbbbRP"
      },
      "source": [
        "def preprocessing(df):\n",
        "    # 결측지 제거\n",
        "    df[\"환불금액\"].fillna(0, inplace=True)\n",
        "\n",
        "    # 음수값 0 으로 대치\n",
        "    df.loc[df[\"총구매액\"] < 0, \"총구매액\"] = 0\n",
        "    df.loc[df[\"최대구매액\"] < 0, \"최대구매액\"] = 0\n",
        "\n",
        "    # Log transform\n",
        "    df[\"총구매액\"] = df[\"총구매액\"].map(lambda x: np.log(x + 1))\n",
        "    df[\"최대구매액\"] = df[\"최대구매액\"].map(lambda x: np.log(x + 1))\n",
        "\n",
        "    # 파생변수 생성\n",
        "    df[\"refund\"] = df[\"환불금액\"].map(lambda x: 1 if x > 0 else 0)\n",
        "    df[\"period\"] = df[\"구매주기\"].map(lambda x: 1 / (x + 1))\n",
        "\n",
        "    # One-Hot Encoding\n",
        "    df_dum = pd.get_dummies(df[[\"주구매상품\", \"주구매지점\"]])\n",
        "    df = pd.concat([df, df_dum], axis=1)\n",
        "    df.drop(columns=[\"주구매상품\", \"주구매지점\"], inplace=True)\n",
        "\n",
        "    return df"
      ],
      "execution_count": null,
      "outputs": []
    },
    {
      "cell_type": "code",
      "metadata": {
        "id": "ilKK6bwMbYF9"
      },
      "source": [
        "df_X = pd.read_csv('https://raw.githubusercontent.com/Datamanim/dataq/main/X_train.csv',encoding='euc-kr')\n",
        "df_X_test  = pd.read_csv('https://raw.githubusercontent.com/Datamanim/dataq/main/X_test.csv',encoding='euc-kr')\n",
        "df_y = pd.read_csv('https://raw.githubusercontent.com/Datamanim/dataq/main/y_train.csv', encoding='euc-kr')"
      ],
      "execution_count": null,
      "outputs": []
    },
    {
      "cell_type": "code",
      "metadata": {
        "id": "fM1k_nlObdwC"
      },
      "source": [
        "df_X = preprocessing(df_X)\n",
        "df_X_test = preprocessing(df_X_test)\n",
        "\n",
        "# One-Hot Encoding, Column 불일치 제거\n",
        "df_X, df_X_test = df_X.align(df_X_test, join=\"left\", axis=1, fill_value=0)"
      ],
      "execution_count": null,
      "outputs": []
    },
    {
      "cell_type": "code",
      "metadata": {
        "id": "YVmrsfOYb0Ue"
      },
      "source": [
        "# 스케일링, numeric column만\n",
        "scaler = MinMaxScaler()\n",
        "# scaler = StandardScaler()\n",
        "scale_cols = [\"총구매액\", \"최대구매액\", \"환불금액\", \"내점일수\", \"내점당구매건수\", \"주말방문비율\", \"구매주기\"]\n",
        "df_X[scale_cols] = scaler.fit_transform(df_X[scale_cols])\n",
        "df_X_test[scale_cols] = scaler.transform(df_X_test[scale_cols])"
      ],
      "execution_count": null,
      "outputs": []
    },
    {
      "cell_type": "code",
      "metadata": {
        "id": "-fHxvYUbb4nE"
      },
      "source": [
        "# pandas dataframe을 numpy로, cust_id 칼럼 제외, y target 타입 int로 설정(int가 아니면 안되는 경우가 있음)\n",
        "X = df_X.iloc[:, 1:].values\n",
        "X_test = df_X_test.iloc[:, 1:].values\n",
        "y = df_y[\"gender\"].values.astype(int)"
      ],
      "execution_count": null,
      "outputs": []
    },
    {
      "cell_type": "code",
      "metadata": {
        "id": "VJETYgADvHA4"
      },
      "source": [
        "X_train, X_valid, y_train, y_valid = train_test_split(X, y, test_size=0.2, random_state=0, shuffle=True, stratify=y)"
      ],
      "execution_count": null,
      "outputs": []
    },
    {
      "cell_type": "code",
      "metadata": {
        "colab": {
          "base_uri": "https://localhost:8080/"
        },
        "id": "i1FDjivYvbkI",
        "outputId": "6c3fd2d8-4ef4-4202-bc47-f541914c6d73"
      },
      "source": [
        "# clf = LogisticRegression(C=0.25, class_weight=\"balanced\")\n",
        "clf = RandomForestClassifier(random_state=0, max_depth=5, criterion=\"entropy\")\n",
        "# clf = XGBClassifier(random_state=0, learning_rate=0.01, max_depth=5)\n",
        "\n",
        "clf.fit(X_train, y_train)\n",
        "\n",
        "# predict_proba는 클래스별로 결과값을 생성, 여기서는 class=1에 대한 확률이 필요\n",
        "y_pred = clf.predict_proba(X_valid)[:, 1]\n",
        "y_gt = y_valid\n",
        "\n",
        "auc = roc_auc_score(y_gt, y_pred)\n",
        "print(auc)"
      ],
      "execution_count": null,
      "outputs": [
        {
          "output_type": "stream",
          "text": [
            "0.6855069563477217\n"
          ],
          "name": "stdout"
        }
      ]
    },
    {
      "cell_type": "code",
      "metadata": {
        "id": "DV8HapScvt-7"
      },
      "source": [
        "pred = clf.predict_proba(X_test)[:, 1]"
      ],
      "execution_count": null,
      "outputs": []
    },
    {
      "cell_type": "code",
      "metadata": {
        "colab": {
          "base_uri": "https://localhost:8080/"
        },
        "id": "yVMRt66qv2lm",
        "outputId": "fc85a044-1c65-4d44-b205-a0d0f51791a4"
      },
      "source": [
        "# Save Result\n",
        "df_result = pd.DataFrame()\n",
        "df_result[\"cust_id\"] = df_X_test[\"cust_id\"]\n",
        "df_result[\"gender\"] = pred\n",
        "df_result.to_csv(\"0000.csv\", index=False)\n",
        "\n",
        "# Check Result\n",
        "df_check = pd.read_csv(\"0000.csv\", index_col=\"cust_id\")\n",
        "print(df_check.head())"
      ],
      "execution_count": null,
      "outputs": [
        {
          "output_type": "stream",
          "text": [
            "           gender\n",
            "cust_id          \n",
            "3500     0.342999\n",
            "3501     0.226726\n",
            "3502     0.224362\n",
            "3503     0.415452\n",
            "3504     0.461818\n"
          ],
          "name": "stdout"
        }
      ]
    }
  ]
}