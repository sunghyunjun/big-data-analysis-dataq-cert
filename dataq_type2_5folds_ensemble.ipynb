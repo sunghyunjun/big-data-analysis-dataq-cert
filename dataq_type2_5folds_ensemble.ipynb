{
  "nbformat": 4,
  "nbformat_minor": 0,
  "metadata": {
    "colab": {
      "name": "dataq_type2_5folds_ensemble.ipynb",
      "provenance": [],
      "authorship_tag": "ABX9TyOShVTZWWSSj5Eyhbh72OVC",
      "include_colab_link": true
    },
    "kernelspec": {
      "name": "python3",
      "display_name": "Python 3"
    },
    "language_info": {
      "name": "python"
    }
  },
  "cells": [
    {
      "cell_type": "markdown",
      "metadata": {
        "id": "view-in-github",
        "colab_type": "text"
      },
      "source": [
        "<a href=\"https://colab.research.google.com/github/sunghyunjun/big-data-analysis-dataq-cert/blob/main/dataq_type2_5folds_ensemble.ipynb\" target=\"_parent\"><img src=\"https://colab.research.google.com/assets/colab-badge.svg\" alt=\"Open In Colab\"/></a>"
      ]
    },
    {
      "cell_type": "code",
      "metadata": {
        "id": "725Fe9lFbQSF"
      },
      "source": [
        "import numpy as np\n",
        "import pandas as pd\n",
        "\n",
        "from sklearn.preprocessing import MinMaxScaler, StandardScaler\n",
        "from sklearn.linear_model import LogisticRegression\n",
        "from sklearn.ensemble import RandomForestClassifier\n",
        "from sklearn.model_selection import StratifiedKFold\n",
        "from sklearn.metrics import roc_auc_score\n",
        "from xgboost import XGBClassifier"
      ],
      "execution_count": null,
      "outputs": []
    },
    {
      "cell_type": "code",
      "metadata": {
        "id": "WURyyHfbbbRP"
      },
      "source": [
        "def preprocessing(df):\n",
        "    # 결측지 제거\n",
        "    df[\"환불금액\"].fillna(0, inplace=True)\n",
        "\n",
        "    # 음수값 0 으로 대치\n",
        "    df.loc[df[\"총구매액\"] < 0, \"총구매액\"] = 0\n",
        "    df.loc[df[\"최대구매액\"] < 0, \"최대구매액\"] = 0\n",
        "\n",
        "    # Log transform\n",
        "    df[\"총구매액\"] = df[\"총구매액\"].map(lambda x: np.log(x + 1))\n",
        "    df[\"최대구매액\"] = df[\"최대구매액\"].map(lambda x: np.log(x + 1))\n",
        "\n",
        "    # 파생변수 생성\n",
        "    df[\"refund\"] = df[\"환불금액\"].map(lambda x: 1 if x > 0 else 0)\n",
        "    df[\"period\"] = df[\"구매주기\"].map(lambda x: 1 / (x + 1))\n",
        "\n",
        "    # One-Hot Encoding\n",
        "    df_dum = pd.get_dummies(df[[\"주구매상품\", \"주구매지점\"]])\n",
        "    df = pd.concat([df, df_dum], axis=1)\n",
        "    df.drop(columns=[\"주구매상품\", \"주구매지점\"], inplace=True)\n",
        "\n",
        "    return df"
      ],
      "execution_count": null,
      "outputs": []
    },
    {
      "cell_type": "code",
      "metadata": {
        "id": "ilKK6bwMbYF9"
      },
      "source": [
        "df_X = pd.read_csv('https://raw.githubusercontent.com/Datamanim/dataq/main/X_train.csv',encoding='euc-kr')\n",
        "df_X_test  = pd.read_csv('https://raw.githubusercontent.com/Datamanim/dataq/main/X_test.csv',encoding='euc-kr')\n",
        "df_y = pd.read_csv('https://raw.githubusercontent.com/Datamanim/dataq/main/y_train.csv', encoding='euc-kr')"
      ],
      "execution_count": null,
      "outputs": []
    },
    {
      "cell_type": "code",
      "metadata": {
        "id": "fM1k_nlObdwC"
      },
      "source": [
        "df_X = preprocessing(df_X)\n",
        "df_X_test = preprocessing(df_X_test)\n",
        "\n",
        "# One-Hot Encoding, Column 불일치 제거\n",
        "df_X, df_X_test = df_X.align(df_X_test, join=\"left\", axis=1, fill_value=0)"
      ],
      "execution_count": null,
      "outputs": []
    },
    {
      "cell_type": "code",
      "metadata": {
        "id": "YVmrsfOYb0Ue"
      },
      "source": [
        "# 스케일링, numeric column만\n",
        "scaler = MinMaxScaler()\n",
        "# scaler = StandardScaler()\n",
        "scale_cols = [\"총구매액\", \"최대구매액\", \"환불금액\", \"내점일수\", \"내점당구매건수\", \"주말방문비율\", \"구매주기\"]\n",
        "df_X[scale_cols] = scaler.fit_transform(df_X[scale_cols])\n",
        "df_X_test[scale_cols] = scaler.transform(df_X_test[scale_cols])"
      ],
      "execution_count": null,
      "outputs": []
    },
    {
      "cell_type": "code",
      "metadata": {
        "id": "-fHxvYUbb4nE"
      },
      "source": [
        "# pandas dataframe을 numpy로, cust_id 칼럼 제외, y target 타입 int로 설정(int가 아니면 안되는 경우가 있음)\n",
        "X = df_X.iloc[:, 1:].values\n",
        "X_test = df_X_test.iloc[:, 1:].values\n",
        "y = df_y[\"gender\"].values.astype(int)"
      ],
      "execution_count": null,
      "outputs": []
    },
    {
      "cell_type": "code",
      "metadata": {
        "id": "-yNwI0D8b6dx"
      },
      "source": [
        "# 5 Folds Ensemble 준비 - Folds Index 생성\n",
        "NFOLDS = 5\n",
        "SEED = 0\n",
        "skf = StratifiedKFold(n_splits=NFOLDS, random_state=SEED, shuffle=True)\n",
        "\n",
        "train_folds = []\n",
        "valid_folds = []\n",
        "for train_idx, valid_idx in skf.split(X, y):\n",
        "    train_folds.append(train_idx)\n",
        "    valid_folds.append(valid_idx)"
      ],
      "execution_count": null,
      "outputs": []
    },
    {
      "cell_type": "code",
      "metadata": {
        "colab": {
          "base_uri": "https://localhost:8080/"
        },
        "id": "zjFCy5lpb8ZV",
        "outputId": "03d287da-b93d-491e-80d9-34b038860f2e"
      },
      "source": [
        "# 5 Folds Ensemble Training\n",
        "clf_list = []\n",
        "auc_list = []\n",
        "for train_fold, valid_fold in zip(train_folds, valid_folds):\n",
        "    clf = LogisticRegression(C=0.25, class_weight=\"balanced\")\n",
        "    # clf = RandomForestClassifier(random_state=SEED, max_depth=5, criterion=\"entropy\")\n",
        "    # clf = XGBClassifier(random_state=SEED, learning_rate=0.01, max_depth=5)\n",
        "    clf.fit(X[train_fold], y[train_fold])\n",
        "\n",
        "    # predict_proba는 클래스별로 결과값을 생성, 여기서는 class=1에 대한 확률이 필요\n",
        "    y_pred = clf.predict_proba(X[valid_fold])[:, 1]\n",
        "    y_gt = y[valid_fold]\n",
        "\n",
        "    auc = roc_auc_score(y_gt, y_pred)\n",
        "    clf_list.append(clf)\n",
        "    auc_list.append(auc)\n",
        "    print(auc)"
      ],
      "execution_count": null,
      "outputs": [
        {
          "output_type": "stream",
          "text": [
            "0.6742088731499769\n",
            "0.7016122717108526\n",
            "0.6931376217034569\n",
            "0.6785114546989064\n",
            "0.6650072977481235\n"
          ],
          "name": "stdout"
        }
      ]
    },
    {
      "cell_type": "code",
      "metadata": {
        "colab": {
          "base_uri": "https://localhost:8080/"
        },
        "id": "ypWfnED5b-e6",
        "outputId": "092f7978-2f15-4751-d8b4-746efd8c948f"
      },
      "source": [
        "# 5 Folds, Out-Of-Folds averaged auc score\n",
        "mean_auc = np.asarray(auc_list).mean()\n",
        "print(f\"mean_auc: {mean_auc}\")"
      ],
      "execution_count": null,
      "outputs": [
        {
          "output_type": "stream",
          "text": [
            "mean_auc: 0.6824955038022633\n"
          ],
          "name": "stdout"
        }
      ]
    },
    {
      "cell_type": "code",
      "metadata": {
        "id": "ArbkzBO4b_6K"
      },
      "source": [
        "# Predict\n",
        "pred_list = []\n",
        "for clf in clf_list:\n",
        "    pred = clf.predict_proba(X_test)[:, 1]\n",
        "    pred_list.append(pred)\n",
        "\n",
        "# 5 Folds Ensemble, Soft Voting, simple average\n",
        "preds = np.asarray(pred_list).mean(axis=0)"
      ],
      "execution_count": null,
      "outputs": []
    },
    {
      "cell_type": "code",
      "metadata": {
        "colab": {
          "base_uri": "https://localhost:8080/"
        },
        "id": "ZN6_SujqcCtg",
        "outputId": "b15940ae-fb85-4e68-8a29-297335951fda"
      },
      "source": [
        "# Save Result\n",
        "df_result = pd.DataFrame()\n",
        "df_result[\"cust_id\"] = df_X_test[\"cust_id\"]\n",
        "df_result[\"gender\"] = preds\n",
        "df_result.to_csv(\"0000.csv\", index=False)\n",
        "\n",
        "# Check Result\n",
        "df_check = pd.read_csv(\"0000.csv\", index_col=\"cust_id\")\n",
        "print(df_check.head())"
      ],
      "execution_count": null,
      "outputs": [
        {
          "output_type": "stream",
          "text": [
            "           gender\n",
            "cust_id          \n",
            "3500     0.526786\n",
            "3501     0.241209\n",
            "3502     0.322448\n",
            "3503     0.472974\n",
            "3504     0.538400\n"
          ],
          "name": "stdout"
        }
      ]
    }
  ]
}